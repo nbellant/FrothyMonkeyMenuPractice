{
 "cells": [
  {
   "cell_type": "code",
   "execution_count": null,
   "id": "75f2fb0b",
   "metadata": {},
   "outputs": [],
   "source": [
    "#Get Name and Greet \n",
    "print(\"Hello and welcome to the Frothy Monkey!\")\n",
    "name = input(\"What is your name? \")\n",
    "print(\"Hello \" + name +\".\" + \" Thanks for coming in today!\")\n",
    "\n",
    "#Introduce Menu and Get Order\n",
    "print(\"Let's take a look at our menu for today.\")\n",
    "print(\"Today we have: \\nBlack Coffee \\nCold Brew \\nEspresso \\nMacchiato \\nCappuccino \\nLatte \\nAmericano \\nTea\")\n",
    "order = input(name + \",\" + \" What can I get for you today?\")\n",
    "\n",
    "#Get Order Details, give total, thank\n",
    "print(\"Sounds good, let's grab some order details from you!\")\n",
    "print(\"First, we need the size. Frothy offers 8oz, 12oz, and 16oz drinks.\")\n",
    "size = input(\"What size drink would you like?\")\n",
    "temp = input(\"Next, we need to know the type of drink. Iced or Hot?\")\n",
    "quant = input(\"How many of \" + order + \" would you like? \")\n",
    "\n",
    "if size == \"8oz\" and temp == \"Hot\":\n",
    "  price = 3\n",
    "\n",
    "if size == \"12oz\" and temp == \"Hot\":\n",
    "  price = 4\n",
    "  \n",
    "if size == \"16oz\" and temp == \"Hot\":\n",
    "  price = 5\n",
    "\n",
    "if size == \"8oz\" and temp == \"Iced\":\n",
    "  price = 4\n",
    "\n",
    "if size == \"12oz\" and temp == \"Iced\":\n",
    "  price = 5\n",
    "\n",
    "if size == \"16oz\" and temp == \"Iced\":\n",
    "  price = 6\n",
    "\n",
    "total = price * int(quant)\n",
    "total = str(total)\n",
    "print (\"Awesome, your total is going to be \" + \"$\" + total + \".\")\n",
    "print(\"Thanks for ordering \" + order +\".\" + \" It will be out in a few moments.\")\n",
    "    "
   ]
  }
 ],
 "metadata": {
  "kernelspec": {
   "display_name": "Python 3",
   "language": "python",
   "name": "python3"
  },
  "language_info": {
   "codemirror_mode": {
    "name": "ipython",
    "version": 3
   },
   "file_extension": ".py",
   "mimetype": "text/x-python",
   "name": "python",
   "nbconvert_exporter": "python",
   "pygments_lexer": "ipython3",
   "version": "3.8.8"
  }
 },
 "nbformat": 4,
 "nbformat_minor": 5
}
